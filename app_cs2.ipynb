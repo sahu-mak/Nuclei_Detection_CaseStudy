{
 "cells": [
  {
   "cell_type": "code",
   "execution_count": null,
   "metadata": {
    "id": "sxfZaaNhjHB_"
   },
   "outputs": [],
   "source": [
    "import warnings\n",
    "warnings.filterwarnings('ignore')\n",
    "import numpy as np\n",
    "from PIL import Image\n",
    "import tensorflow as tf\n",
    "import streamlit as st\n",
    "\n",
    "\n",
    "@st.cache\n",
    "def load_image(image_file):\n",
    "    img = Image.open(image_file)\n",
    "    return np.array(img)\n",
    "\n",
    "\n",
    "def nuclei_detection(image):\n",
    "    \"\"\"\n",
    "    This functions takes an image as input and returns segmented image as output\n",
    "    Input : Input Image\n",
    "    Output : Input Image, Segmented Image\n",
    "    \"\"\"\n",
    "    # Reading and processing Image\n",
    "    image = tf.image.convert_image_dtype(image, tf.float32)\n",
    "    image = tf.image.resize(image, [256, 256])\n",
    "    # Importing HRNet model\n",
    "    model = tf.keras.models.load_model(\"hrnet_model.h5\")\n",
    "    # Predicting Semgentaions on Image using pretrained model\n",
    "    pred_mask = model.predict(image[np.newaxis, :, :, :])\n",
    "    # Importing quantized HRNet model and predicting segmentations\n",
    "    interpreter = tf.lite.Interpreter(model_path=\"quant_hrnet_model.tflite\")\n",
    "    interpreter.allocate_tensors()\n",
    "    interpreter.set_tensor(interpreter.get_input_details()[0]['index'], image[np.newaxis,:,:,:])\n",
    "    interpreter.invoke()\n",
    "    pred_mask_qh = interpreter.get_tensor(interpreter.get_output_details()[0]['index'])\n",
    "    return tf.keras.preprocessing.image.array_to_img(image), pred_mask, pred_mask_qh\n",
    "\n",
    "\n",
    "def main():\n",
    "    st.title(\"Nuclei Detection through Image Segmentation\")\n",
    "    html_temp = \"\"\"\n",
    "  <div style=\"background-color:tomato;padding:10px\">\n",
    "  <h2 style=\"color:white;text-align:center;\">Streamlit Nuclei Detection App </h2>\n",
    "  </div>\n",
    "  \"\"\"\n",
    "    st.markdown(html_temp, unsafe_allow_html=True)\n",
    "    file = st.file_uploader(\"Upload PNG Image\", type=['png'])\n",
    "\n",
    "    if file is not None:\n",
    "        img_ = load_image(file)\n",
    "        img, pred_mask, pred_mask_qh = nuclei_detection(img_)\n",
    "        st.image(img, caption='Original Image')\n",
    "        st.image(pred_mask[0, :, :, 0], caption='HRNet Prediction')\n",
    "        st.image(pred_mask_qh[:, :, 0], caption='Quantized HRNet Prediction')\n",
    "\n",
    "\n",
    "if __name__ == '__main__':\n",
    "    main()"
   ]
  }
 ],
 "metadata": {
  "colab": {
   "collapsed_sections": [],
   "name": "app_cs2.ipynb",
   "provenance": []
  },
  "kernelspec": {
   "display_name": "Python 3",
   "language": "python",
   "name": "python3"
  },
  "language_info": {
   "codemirror_mode": {
    "name": "ipython",
    "version": 3
   },
   "file_extension": ".py",
   "mimetype": "text/x-python",
   "name": "python",
   "nbconvert_exporter": "python",
   "pygments_lexer": "ipython3",
   "version": "3.7.4"
  }
 },
 "nbformat": 4,
 "nbformat_minor": 1
}
